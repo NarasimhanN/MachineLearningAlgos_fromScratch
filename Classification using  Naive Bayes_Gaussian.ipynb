{
 "cells": [
  {
   "cell_type": "markdown",
   "id": "36418840",
   "metadata": {},
   "source": [
    " "
   ]
  },
  {
   "cell_type": "markdown",
   "id": "6e476db3",
   "metadata": {},
   "source": [
    "# ----------------------------- Naive Bayes -----------------------------"
   ]
  },
  {
   "cell_type": "code",
   "execution_count": 3,
   "id": "98b27fab",
   "metadata": {},
   "outputs": [],
   "source": [
    "import numpy as np\n",
    "import pandas as pd\n",
    "import matplotlib.pyplot as plt\n",
    "import seaborn as sns"
   ]
  },
  {
   "cell_type": "code",
   "execution_count": 4,
   "id": "536fa966",
   "metadata": {},
   "outputs": [],
   "source": [
    "# Utility function to drop rows\n",
    "def dropRows(row_nums,df):\n",
    "    df.drop(axis=0,index=row_nums,inplace=True)"
   ]
  },
  {
   "cell_type": "code",
   "execution_count": 5,
   "id": "9edf9e27",
   "metadata": {},
   "outputs": [
    {
     "data": {
      "text/html": [
       "<div>\n",
       "<style scoped>\n",
       "    .dataframe tbody tr th:only-of-type {\n",
       "        vertical-align: middle;\n",
       "    }\n",
       "\n",
       "    .dataframe tbody tr th {\n",
       "        vertical-align: top;\n",
       "    }\n",
       "\n",
       "    .dataframe thead th {\n",
       "        text-align: right;\n",
       "    }\n",
       "</style>\n",
       "<table border=\"1\" class=\"dataframe\">\n",
       "  <thead>\n",
       "    <tr style=\"text-align: right;\">\n",
       "      <th></th>\n",
       "      <th>Pregnancies</th>\n",
       "      <th>Glucose</th>\n",
       "      <th>BloodPressure</th>\n",
       "      <th>SkinThickness</th>\n",
       "      <th>Insulin</th>\n",
       "      <th>BMI</th>\n",
       "      <th>DiabetesPedigreeFunction</th>\n",
       "      <th>Age</th>\n",
       "      <th>Outcome</th>\n",
       "    </tr>\n",
       "  </thead>\n",
       "  <tbody>\n",
       "    <tr>\n",
       "      <th>0</th>\n",
       "      <td>6</td>\n",
       "      <td>148</td>\n",
       "      <td>72</td>\n",
       "      <td>35</td>\n",
       "      <td>0</td>\n",
       "      <td>33.6</td>\n",
       "      <td>0.627</td>\n",
       "      <td>50</td>\n",
       "      <td>1</td>\n",
       "    </tr>\n",
       "    <tr>\n",
       "      <th>1</th>\n",
       "      <td>1</td>\n",
       "      <td>85</td>\n",
       "      <td>66</td>\n",
       "      <td>29</td>\n",
       "      <td>0</td>\n",
       "      <td>26.6</td>\n",
       "      <td>0.351</td>\n",
       "      <td>31</td>\n",
       "      <td>0</td>\n",
       "    </tr>\n",
       "    <tr>\n",
       "      <th>2</th>\n",
       "      <td>8</td>\n",
       "      <td>183</td>\n",
       "      <td>64</td>\n",
       "      <td>0</td>\n",
       "      <td>0</td>\n",
       "      <td>23.3</td>\n",
       "      <td>0.672</td>\n",
       "      <td>32</td>\n",
       "      <td>1</td>\n",
       "    </tr>\n",
       "    <tr>\n",
       "      <th>3</th>\n",
       "      <td>1</td>\n",
       "      <td>89</td>\n",
       "      <td>66</td>\n",
       "      <td>23</td>\n",
       "      <td>94</td>\n",
       "      <td>28.1</td>\n",
       "      <td>0.167</td>\n",
       "      <td>21</td>\n",
       "      <td>0</td>\n",
       "    </tr>\n",
       "    <tr>\n",
       "      <th>4</th>\n",
       "      <td>0</td>\n",
       "      <td>137</td>\n",
       "      <td>40</td>\n",
       "      <td>35</td>\n",
       "      <td>168</td>\n",
       "      <td>43.1</td>\n",
       "      <td>2.288</td>\n",
       "      <td>33</td>\n",
       "      <td>1</td>\n",
       "    </tr>\n",
       "  </tbody>\n",
       "</table>\n",
       "</div>"
      ],
      "text/plain": [
       "   Pregnancies  Glucose  BloodPressure  SkinThickness  Insulin   BMI  \\\n",
       "0            6      148             72             35        0  33.6   \n",
       "1            1       85             66             29        0  26.6   \n",
       "2            8      183             64              0        0  23.3   \n",
       "3            1       89             66             23       94  28.1   \n",
       "4            0      137             40             35      168  43.1   \n",
       "\n",
       "   DiabetesPedigreeFunction  Age  Outcome  \n",
       "0                     0.627   50        1  \n",
       "1                     0.351   31        0  \n",
       "2                     0.672   32        1  \n",
       "3                     0.167   21        0  \n",
       "4                     2.288   33        1  "
      ]
     },
     "execution_count": 5,
     "metadata": {},
     "output_type": "execute_result"
    }
   ],
   "source": [
    "dia = pd.read_csv('diabetes.csv')\n",
    "dia.head()"
   ]
  },
  {
   "cell_type": "code",
   "execution_count": 6,
   "id": "de667a3f",
   "metadata": {},
   "outputs": [
    {
     "name": "stdout",
     "output_type": "stream",
     "text": [
      "<class 'pandas.core.frame.DataFrame'>\n",
      "RangeIndex: 768 entries, 0 to 767\n",
      "Data columns (total 9 columns):\n",
      " #   Column                    Non-Null Count  Dtype  \n",
      "---  ------                    --------------  -----  \n",
      " 0   Pregnancies               768 non-null    int64  \n",
      " 1   Glucose                   768 non-null    int64  \n",
      " 2   BloodPressure             768 non-null    int64  \n",
      " 3   SkinThickness             768 non-null    int64  \n",
      " 4   Insulin                   768 non-null    int64  \n",
      " 5   BMI                       768 non-null    float64\n",
      " 6   DiabetesPedigreeFunction  768 non-null    float64\n",
      " 7   Age                       768 non-null    int64  \n",
      " 8   Outcome                   768 non-null    int64  \n",
      "dtypes: float64(2), int64(7)\n",
      "memory usage: 54.1 KB\n"
     ]
    }
   ],
   "source": [
    "dia.info()"
   ]
  },
  {
   "cell_type": "markdown",
   "id": "33d0e37b",
   "metadata": {},
   "source": [
    "## Checking for Corelation between features : "
   ]
  },
  {
   "cell_type": "code",
   "execution_count": 7,
   "id": "c8781d7a",
   "metadata": {},
   "outputs": [
    {
     "data": {
      "text/plain": [
       "<AxesSubplot:>"
      ]
     },
     "execution_count": 7,
     "metadata": {},
     "output_type": "execute_result"
    },
    {
     "data": {
      "image/png": "[encoded data removed]",
      "text/plain": [
       "<Figure size 720x360 with 1 Axes>"
      ]
     },
     "metadata": {
      "needs_background": "light"
     },
     "output_type": "display_data"
    }
   ],
   "source": [
    "fig = plt.figure(figsize=(10,5))\n",
    "sns.heatmap(dia.corr(),cbar=False,annot=True,cmap=\"coolwarm\")"
   ]
  },
  {
   "cell_type": "markdown",
   "id": "88c36945",
   "metadata": {},
   "source": [
    "#### INFERENCE : \n",
    "There seems to be no extreem positive or negative corelation between feature, hence not dropping any feature"
   ]
  },
  {
   "cell_type": "markdown",
   "id": "e384688d",
   "metadata": {},
   "source": [
    " "
   ]
  },
  {
   "cell_type": "markdown",
   "id": "330e5976",
   "metadata": {},
   "source": [
    "## Checking for NULL Values : "
   ]
  },
  {
   "cell_type": "code",
   "execution_count": 8,
   "id": "66f3bc20",
   "metadata": {},
   "outputs": [
    {
     "data": {
      "text/plain": [
       "Pregnancies                 0\n",
       "Glucose                     0\n",
       "BloodPressure               0\n",
       "SkinThickness               0\n",
       "Insulin                     0\n",
       "BMI                         0\n",
       "DiabetesPedigreeFunction    0\n",
       "Age                         0\n",
       "Outcome                     0\n",
       "dtype: int64"
      ]
     },
     "execution_count": 8,
     "metadata": {},
     "output_type": "execute_result"
    }
   ],
   "source": [
    "dia.isna().sum()"
   ]
  },
  {
   "cell_type": "markdown",
   "id": "0f6b95f7",
   "metadata": {},
   "source": [
    "#### INFERENCE :\n",
    "No missing data to deal with"
   ]
  },
  {
   "cell_type": "markdown",
   "id": "1db2580f",
   "metadata": {},
   "source": [
    " "
   ]
  },
  {
   "cell_type": "code",
   "execution_count": 9,
   "id": "d898f7b0",
   "metadata": {},
   "outputs": [
    {
     "data": {
      "text/html": [
       "<div>\n",
       "<style scoped>\n",
       "    .dataframe tbody tr th:only-of-type {\n",
       "        vertical-align: middle;\n",
       "    }\n",
       "\n",
       "    .dataframe tbody tr th {\n",
       "        vertical-align: top;\n",
       "    }\n",
       "\n",
       "    .dataframe thead th {\n",
       "        text-align: right;\n",
       "    }\n",
       "</style>\n",
       "<table border=\"1\" class=\"dataframe\">\n",
       "  <thead>\n",
       "    <tr style=\"text-align: right;\">\n",
       "      <th></th>\n",
       "      <th>Pregnancies</th>\n",
       "      <th>Glucose</th>\n",
       "      <th>BloodPressure</th>\n",
       "      <th>SkinThickness</th>\n",
       "      <th>Insulin</th>\n",
       "      <th>BMI</th>\n",
       "      <th>DiabetesPedigreeFunction</th>\n",
       "      <th>Age</th>\n",
       "      <th>Outcome</th>\n",
       "    </tr>\n",
       "  </thead>\n",
       "  <tbody>\n",
       "    <tr>\n",
       "      <th>count</th>\n",
       "      <td>768.000000</td>\n",
       "      <td>768.000000</td>\n",
       "      <td>768.000000</td>\n",
       "      <td>768.000000</td>\n",
       "      <td>768.000000</td>\n",
       "      <td>768.000000</td>\n",
       "      <td>768.000000</td>\n",
       "      <td>768.000000</td>\n",
       "      <td>768.000000</td>\n",
       "    </tr>\n",
       "    <tr>\n",
       "      <th>mean</th>\n",
       "      <td>3.845052</td>\n",
       "      <td>120.894531</td>\n",
       "      <td>69.105469</td>\n",
       "      <td>20.536458</td>\n",
       "      <td>79.799479</td>\n",
       "      <td>31.992578</td>\n",
       "      <td>0.471876</td>\n",
       "      <td>33.240885</td>\n",
       "      <td>0.348958</td>\n",
       "    </tr>\n",
       "    <tr>\n",
       "      <th>std</th>\n",
       "      <td>3.369578</td>\n",
       "      <td>31.972618</td>\n",
       "      <td>19.355807</td>\n",
       "      <td>15.952218</td>\n",
       "      <td>115.244002</td>\n",
       "      <td>7.884160</td>\n",
       "      <td>0.331329</td>\n",
       "      <td>11.760232</td>\n",
       "      <td>0.476951</td>\n",
       "    </tr>\n",
       "    <tr>\n",
       "      <th>min</th>\n",
       "      <td>0.000000</td>\n",
       "      <td>0.000000</td>\n",
       "      <td>0.000000</td>\n",
       "      <td>0.000000</td>\n",
       "      <td>0.000000</td>\n",
       "      <td>0.000000</td>\n",
       "      <td>0.078000</td>\n",
       "      <td>21.000000</td>\n",
       "      <td>0.000000</td>\n",
       "    </tr>\n",
       "    <tr>\n",
       "      <th>25%</th>\n",
       "      <td>1.000000</td>\n",
       "      <td>99.000000</td>\n",
       "      <td>62.000000</td>\n",
       "      <td>0.000000</td>\n",
       "      <td>0.000000</td>\n",
       "      <td>27.300000</td>\n",
       "      <td>0.243750</td>\n",
       "      <td>24.000000</td>\n",
       "      <td>0.000000</td>\n",
       "    </tr>\n",
       "    <tr>\n",
       "      <th>50%</th>\n",
       "      <td>3.000000</td>\n",
       "      <td>117.000000</td>\n",
       "      <td>72.000000</td>\n",
       "      <td>23.000000</td>\n",
       "      <td>30.500000</td>\n",
       "      <td>32.000000</td>\n",
       "      <td>0.372500</td>\n",
       "      <td>29.000000</td>\n",
       "      <td>0.000000</td>\n",
       "    </tr>\n",
       "    <tr>\n",
       "      <th>75%</th>\n",
       "      <td>6.000000</td>\n",
       "      <td>140.250000</td>\n",
       "      <td>80.000000</td>\n",
       "      <td>32.000000</td>\n",
       "      <td>127.250000</td>\n",
       "      <td>36.600000</td>\n",
       "      <td>0.626250</td>\n",
       "      <td>41.000000</td>\n",
       "      <td>1.000000</td>\n",
       "    </tr>\n",
       "    <tr>\n",
       "      <th>max</th>\n",
       "      <td>17.000000</td>\n",
       "      <td>199.000000</td>\n",
       "      <td>122.000000</td>\n",
       "      <td>99.000000</td>\n",
       "      <td>846.000000</td>\n",
       "      <td>67.100000</td>\n",
       "      <td>2.420000</td>\n",
       "      <td>81.000000</td>\n",
       "      <td>1.000000</td>\n",
       "    </tr>\n",
       "  </tbody>\n",
       "</table>\n",
       "</div>"
      ],
      "text/plain": [
       "       Pregnancies     Glucose  BloodPressure  SkinThickness     Insulin  \\\n",
       "count   768.000000  768.000000     768.000000     768.000000  768.000000   \n",
       "mean      3.845052  120.894531      69.105469      20.536458   79.799479   \n",
       "std       3.369578   31.972618      19.355807      15.952218  115.244002   \n",
       "min       0.000000    0.000000       0.000000       0.000000    0.000000   \n",
       "25%       1.000000   99.000000      62.000000       0.000000    0.000000   \n",
       "50%       3.000000  117.000000      72.000000      23.000000   30.500000   \n",
       "75%       6.000000  140.250000      80.000000      32.000000  127.250000   \n",
       "max      17.000000  199.000000     122.000000      99.000000  846.000000   \n",
       "\n",
       "              BMI  DiabetesPedigreeFunction         Age     Outcome  \n",
       "count  768.000000                768.000000  768.000000  768.000000  \n",
       "mean    31.992578                  0.471876   33.240885    0.348958  \n",
       "std      7.884160                  0.331329   11.760232    0.476951  \n",
       "min      0.000000                  0.078000   21.000000    0.000000  \n",
       "25%     27.300000                  0.243750   24.000000    0.000000  \n",
       "50%     32.000000                  0.372500   29.000000    0.000000  \n",
       "75%     36.600000                  0.626250   41.000000    1.000000  \n",
       "max     67.100000                  2.420000   81.000000    1.000000  "
      ]
     },
     "execution_count": 9,
     "metadata": {},
     "output_type": "execute_result"
    }
   ],
   "source": [
    "dia.describe()"
   ]
  },
  {
   "cell_type": "code",
   "execution_count": 10,
   "id": "638a6bc1",
   "metadata": {},
   "outputs": [
    {
     "data": {
      "text/plain": [
       "<AxesSubplot:>"
      ]
     },
     "execution_count": 10,
     "metadata": {},
     "output_type": "execute_result"
    },
    {
     "data": {
      "image/png": "[encoded data removed]",
      "text/plain": [
       "<Figure size 1440x720 with 1 Axes>"
      ]
     },
     "metadata": {
      "needs_background": "light"
     },
     "output_type": "display_data"
    }
   ],
   "source": [
    "fig = plt.figure(figsize=(20,10))\n",
    "sns.boxplot(data=dia)"
   ]
  },
  {
   "cell_type": "markdown",
   "id": "8e0529b9",
   "metadata": {},
   "source": [
    "##### BMI cannot  be zero, heace dropping them as they are outliers"
   ]
  },
  {
   "cell_type": "code",
   "execution_count": 11,
   "id": "026a5577",
   "metadata": {},
   "outputs": [
    {
     "name": "stdout",
     "output_type": "stream",
     "text": [
      "Int64Index([9, 49, 60, 81, 145, 371, 426, 494, 522, 684, 706], dtype='int64') \n",
      "Count :  11\n"
     ]
    }
   ],
   "source": [
    "row_nums = dia[dia['BMI']==0].index\n",
    "print(row_nums,\"\\nCount : \",len(row_nums))"
   ]
  },
  {
   "cell_type": "code",
   "execution_count": 12,
   "id": "3904e1a1",
   "metadata": {},
   "outputs": [],
   "source": [
    "dropRows(row_nums,dia)"
   ]
  },
  {
   "cell_type": "markdown",
   "id": "350be942",
   "metadata": {},
   "source": [
    "##### Glucose cannot  be zero, heace dropping them as they are outliers"
   ]
  },
  {
   "cell_type": "code",
   "execution_count": 13,
   "id": "2b1a21d2",
   "metadata": {},
   "outputs": [
    {
     "name": "stdout",
     "output_type": "stream",
     "text": [
      "Int64Index([75, 182, 342, 349, 502], dtype='int64') \n",
      "Count :  5\n"
     ]
    }
   ],
   "source": [
    "row_nums = dia[dia['Glucose']==0].index\n",
    "print(row_nums,\"\\nCount : \",len(row_nums))"
   ]
  },
  {
   "cell_type": "code",
   "execution_count": 14,
   "id": "d580f238",
   "metadata": {},
   "outputs": [],
   "source": [
    "dropRows(row_nums,dia)"
   ]
  },
  {
   "cell_type": "code",
   "execution_count": 15,
   "id": "1af0a2d1",
   "metadata": {},
   "outputs": [
    {
     "data": {
      "text/plain": [
       "752"
      ]
     },
     "execution_count": 15,
     "metadata": {},
     "output_type": "execute_result"
    }
   ],
   "source": [
    "len(dia) # Total number of Rows in the Dataset"
   ]
  },
  {
   "cell_type": "markdown",
   "id": "929de300",
   "metadata": {},
   "source": [
    "##### Other features like BloodPressure, SkinThickness, Insulin cannot be 0 but dropping them will result in loss of data, hence we shall replace them with the median"
   ]
  },
  {
   "cell_type": "code",
   "execution_count": 16,
   "id": "817779fc",
   "metadata": {},
   "outputs": [
    {
     "name": "stdout",
     "output_type": "stream",
     "text": [
      "Int64Index([  7,  15,  78, 172, 193, 222, 261, 266, 269, 300, 332, 336, 347,\n",
      "            357, 430, 435, 453, 468, 484, 533, 535, 589, 601, 604, 619, 643,\n",
      "            697, 703],\n",
      "           dtype='int64') \n",
      "Count :  28\n"
     ]
    }
   ],
   "source": [
    "row_nums = dia[dia['BloodPressure']==0].index\n",
    "print(row_nums,\"\\nCount : \",len(row_nums)) # approx 5% of data set size"
   ]
  },
  {
   "cell_type": "code",
   "execution_count": 17,
   "id": "a08f0963",
   "metadata": {},
   "outputs": [
    {
     "name": "stdout",
     "output_type": "stream",
     "text": [
      "Int64Index([  2,   5,   7,  10,  11,  12,  15,  17,  21,  22,\n",
      "            ...\n",
      "            734, 739, 743, 749, 750, 757, 758, 759, 762, 766],\n",
      "           dtype='int64', length=218) \n",
      "Count :  218\n"
     ]
    }
   ],
   "source": [
    "row_nums = dia[dia['SkinThickness']==0].index\n",
    "print(row_nums,\"\\nCount : \",len(row_nums)) # approx 30% of data set size"
   ]
  },
  {
   "cell_type": "code",
   "execution_count": 18,
   "id": "feaaba22",
   "metadata": {},
   "outputs": [
    {
     "name": "stdout",
     "output_type": "stream",
     "text": [
      "Int64Index([  0,   1,   2,   5,   7,  10,  11,  12,  15,  17,\n",
      "            ...\n",
      "            754, 756, 757, 758, 759, 761, 762, 764, 766, 767],\n",
      "           dtype='int64', length=360) \n",
      "Count :  360\n"
     ]
    }
   ],
   "source": [
    "row_nums = dia[dia['Insulin']==0].index\n",
    "print(row_nums,\"\\nCount : \",len(row_nums)) # approx 50% of data set size"
   ]
  },
  {
   "cell_type": "markdown",
   "id": "7be45208",
   "metadata": {},
   "source": [
    "##### Replace by Median Values : "
   ]
  },
  {
   "cell_type": "code",
   "execution_count": 19,
   "id": "34a2516e",
   "metadata": {},
   "outputs": [],
   "source": [
    "for col in ['Insulin','SkinThickness','BloodPressure']:\n",
    "    dia[col]=dia[col].apply(lambda x : dia[col].median() if x==0 else x)"
   ]
  },
  {
   "cell_type": "markdown",
   "id": "72a85e54",
   "metadata": {},
   "source": [
    "## Train and Test Data Preparation : "
   ]
  },
  {
   "cell_type": "code",
   "execution_count": 20,
   "id": "72b71fa4",
   "metadata": {},
   "outputs": [
    {
     "data": {
      "text/html": [
       "<div>\n",
       "<style scoped>\n",
       "    .dataframe tbody tr th:only-of-type {\n",
       "        vertical-align: middle;\n",
       "    }\n",
       "\n",
       "    .dataframe tbody tr th {\n",
       "        vertical-align: top;\n",
       "    }\n",
       "\n",
       "    .dataframe thead th {\n",
       "        text-align: right;\n",
       "    }\n",
       "</style>\n",
       "<table border=\"1\" class=\"dataframe\">\n",
       "  <thead>\n",
       "    <tr style=\"text-align: right;\">\n",
       "      <th></th>\n",
       "      <th>Pregnancies</th>\n",
       "      <th>Glucose</th>\n",
       "      <th>BloodPressure</th>\n",
       "      <th>SkinThickness</th>\n",
       "      <th>Insulin</th>\n",
       "      <th>BMI</th>\n",
       "      <th>DiabetesPedigreeFunction</th>\n",
       "      <th>Age</th>\n",
       "      <th>Outcome</th>\n",
       "    </tr>\n",
       "  </thead>\n",
       "  <tbody>\n",
       "    <tr>\n",
       "      <th>385</th>\n",
       "      <td>1</td>\n",
       "      <td>119</td>\n",
       "      <td>54.0</td>\n",
       "      <td>13.0</td>\n",
       "      <td>50.0</td>\n",
       "      <td>22.3</td>\n",
       "      <td>0.205</td>\n",
       "      <td>24</td>\n",
       "      <td>0</td>\n",
       "    </tr>\n",
       "    <tr>\n",
       "      <th>466</th>\n",
       "      <td>0</td>\n",
       "      <td>74</td>\n",
       "      <td>52.0</td>\n",
       "      <td>10.0</td>\n",
       "      <td>36.0</td>\n",
       "      <td>27.8</td>\n",
       "      <td>0.269</td>\n",
       "      <td>22</td>\n",
       "      <td>0</td>\n",
       "    </tr>\n",
       "    <tr>\n",
       "      <th>467</th>\n",
       "      <td>0</td>\n",
       "      <td>97</td>\n",
       "      <td>64.0</td>\n",
       "      <td>36.0</td>\n",
       "      <td>100.0</td>\n",
       "      <td>36.8</td>\n",
       "      <td>0.600</td>\n",
       "      <td>25</td>\n",
       "      <td>0</td>\n",
       "    </tr>\n",
       "    <tr>\n",
       "      <th>469</th>\n",
       "      <td>6</td>\n",
       "      <td>154</td>\n",
       "      <td>78.0</td>\n",
       "      <td>41.0</td>\n",
       "      <td>140.0</td>\n",
       "      <td>46.1</td>\n",
       "      <td>0.571</td>\n",
       "      <td>27</td>\n",
       "      <td>0</td>\n",
       "    </tr>\n",
       "    <tr>\n",
       "      <th>470</th>\n",
       "      <td>1</td>\n",
       "      <td>144</td>\n",
       "      <td>82.0</td>\n",
       "      <td>40.0</td>\n",
       "      <td>39.0</td>\n",
       "      <td>41.3</td>\n",
       "      <td>0.607</td>\n",
       "      <td>28</td>\n",
       "      <td>0</td>\n",
       "    </tr>\n",
       "  </tbody>\n",
       "</table>\n",
       "</div>"
      ],
      "text/plain": [
       "     Pregnancies  Glucose  BloodPressure  SkinThickness  Insulin   BMI  \\\n",
       "385            1      119           54.0           13.0     50.0  22.3   \n",
       "466            0       74           52.0           10.0     36.0  27.8   \n",
       "467            0       97           64.0           36.0    100.0  36.8   \n",
       "469            6      154           78.0           41.0    140.0  46.1   \n",
       "470            1      144           82.0           40.0     39.0  41.3   \n",
       "\n",
       "     DiabetesPedigreeFunction  Age  Outcome  \n",
       "385                     0.205   24        0  \n",
       "466                     0.269   22        0  \n",
       "467                     0.600   25        0  \n",
       "469                     0.571   27        0  \n",
       "470                     0.607   28        0  "
      ]
     },
     "execution_count": 20,
     "metadata": {},
     "output_type": "execute_result"
    }
   ],
   "source": [
    "dia.sort_values('Outcome',inplace=True)\n",
    "dia.head()"
   ]
  },
  {
   "cell_type": "code",
   "execution_count": 21,
   "id": "47ee8ebb",
   "metadata": {},
   "outputs": [
    {
     "data": {
      "text/html": [
       "<div>\n",
       "<style scoped>\n",
       "    .dataframe tbody tr th:only-of-type {\n",
       "        vertical-align: middle;\n",
       "    }\n",
       "\n",
       "    .dataframe tbody tr th {\n",
       "        vertical-align: top;\n",
       "    }\n",
       "\n",
       "    .dataframe thead th {\n",
       "        text-align: right;\n",
       "    }\n",
       "</style>\n",
       "<table border=\"1\" class=\"dataframe\">\n",
       "  <thead>\n",
       "    <tr style=\"text-align: right;\">\n",
       "      <th></th>\n",
       "      <th>Pregnancies</th>\n",
       "      <th>Glucose</th>\n",
       "      <th>BloodPressure</th>\n",
       "      <th>SkinThickness</th>\n",
       "      <th>Insulin</th>\n",
       "      <th>BMI</th>\n",
       "      <th>DiabetesPedigreeFunction</th>\n",
       "      <th>Age</th>\n",
       "      <th>Outcome</th>\n",
       "    </tr>\n",
       "  </thead>\n",
       "  <tbody>\n",
       "    <tr>\n",
       "      <th>0</th>\n",
       "      <td>1</td>\n",
       "      <td>119</td>\n",
       "      <td>54.0</td>\n",
       "      <td>13.0</td>\n",
       "      <td>50.0</td>\n",
       "      <td>22.3</td>\n",
       "      <td>0.205</td>\n",
       "      <td>24</td>\n",
       "      <td>0</td>\n",
       "    </tr>\n",
       "    <tr>\n",
       "      <th>1</th>\n",
       "      <td>0</td>\n",
       "      <td>74</td>\n",
       "      <td>52.0</td>\n",
       "      <td>10.0</td>\n",
       "      <td>36.0</td>\n",
       "      <td>27.8</td>\n",
       "      <td>0.269</td>\n",
       "      <td>22</td>\n",
       "      <td>0</td>\n",
       "    </tr>\n",
       "    <tr>\n",
       "      <th>2</th>\n",
       "      <td>0</td>\n",
       "      <td>97</td>\n",
       "      <td>64.0</td>\n",
       "      <td>36.0</td>\n",
       "      <td>100.0</td>\n",
       "      <td>36.8</td>\n",
       "      <td>0.600</td>\n",
       "      <td>25</td>\n",
       "      <td>0</td>\n",
       "    </tr>\n",
       "    <tr>\n",
       "      <th>3</th>\n",
       "      <td>6</td>\n",
       "      <td>154</td>\n",
       "      <td>78.0</td>\n",
       "      <td>41.0</td>\n",
       "      <td>140.0</td>\n",
       "      <td>46.1</td>\n",
       "      <td>0.571</td>\n",
       "      <td>27</td>\n",
       "      <td>0</td>\n",
       "    </tr>\n",
       "    <tr>\n",
       "      <th>4</th>\n",
       "      <td>1</td>\n",
       "      <td>144</td>\n",
       "      <td>82.0</td>\n",
       "      <td>40.0</td>\n",
       "      <td>39.0</td>\n",
       "      <td>41.3</td>\n",
       "      <td>0.607</td>\n",
       "      <td>28</td>\n",
       "      <td>0</td>\n",
       "    </tr>\n",
       "  </tbody>\n",
       "</table>\n",
       "</div>"
      ],
      "text/plain": [
       "   Pregnancies  Glucose  BloodPressure  SkinThickness  Insulin   BMI  \\\n",
       "0            1      119           54.0           13.0     50.0  22.3   \n",
       "1            0       74           52.0           10.0     36.0  27.8   \n",
       "2            0       97           64.0           36.0    100.0  36.8   \n",
       "3            6      154           78.0           41.0    140.0  46.1   \n",
       "4            1      144           82.0           40.0     39.0  41.3   \n",
       "\n",
       "   DiabetesPedigreeFunction  Age  Outcome  \n",
       "0                     0.205   24        0  \n",
       "1                     0.269   22        0  \n",
       "2                     0.600   25        0  \n",
       "3                     0.571   27        0  \n",
       "4                     0.607   28        0  "
      ]
     },
     "execution_count": 21,
     "metadata": {},
     "output_type": "execute_result"
    }
   ],
   "source": [
    "dia.reset_index(drop=True,inplace=True)\n",
    "dia.head()"
   ]
  },
  {
   "cell_type": "code",
   "execution_count": 22,
   "id": "0658f706",
   "metadata": {},
   "outputs": [
    {
     "data": {
      "text/html": [
       "<div>\n",
       "<style scoped>\n",
       "    .dataframe tbody tr th:only-of-type {\n",
       "        vertical-align: middle;\n",
       "    }\n",
       "\n",
       "    .dataframe tbody tr th {\n",
       "        vertical-align: top;\n",
       "    }\n",
       "\n",
       "    .dataframe thead th {\n",
       "        text-align: right;\n",
       "    }\n",
       "</style>\n",
       "<table border=\"1\" class=\"dataframe\">\n",
       "  <thead>\n",
       "    <tr style=\"text-align: right;\">\n",
       "      <th></th>\n",
       "      <th>Pregnancies</th>\n",
       "      <th>Glucose</th>\n",
       "      <th>BloodPressure</th>\n",
       "      <th>SkinThickness</th>\n",
       "      <th>Insulin</th>\n",
       "      <th>BMI</th>\n",
       "      <th>DiabetesPedigreeFunction</th>\n",
       "      <th>Age</th>\n",
       "      <th>Outcome</th>\n",
       "    </tr>\n",
       "  </thead>\n",
       "  <tbody>\n",
       "    <tr>\n",
       "      <th>747</th>\n",
       "      <td>5</td>\n",
       "      <td>158</td>\n",
       "      <td>84.0</td>\n",
       "      <td>41.0</td>\n",
       "      <td>210.0</td>\n",
       "      <td>39.4</td>\n",
       "      <td>0.395</td>\n",
       "      <td>29</td>\n",
       "      <td>1</td>\n",
       "    </tr>\n",
       "    <tr>\n",
       "      <th>748</th>\n",
       "      <td>3</td>\n",
       "      <td>107</td>\n",
       "      <td>62.0</td>\n",
       "      <td>13.0</td>\n",
       "      <td>48.0</td>\n",
       "      <td>22.9</td>\n",
       "      <td>0.678</td>\n",
       "      <td>23</td>\n",
       "      <td>1</td>\n",
       "    </tr>\n",
       "    <tr>\n",
       "      <th>749</th>\n",
       "      <td>0</td>\n",
       "      <td>135</td>\n",
       "      <td>68.0</td>\n",
       "      <td>42.0</td>\n",
       "      <td>250.0</td>\n",
       "      <td>42.3</td>\n",
       "      <td>0.365</td>\n",
       "      <td>24</td>\n",
       "      <td>1</td>\n",
       "    </tr>\n",
       "    <tr>\n",
       "      <th>750</th>\n",
       "      <td>4</td>\n",
       "      <td>109</td>\n",
       "      <td>64.0</td>\n",
       "      <td>44.0</td>\n",
       "      <td>99.0</td>\n",
       "      <td>34.8</td>\n",
       "      <td>0.905</td>\n",
       "      <td>26</td>\n",
       "      <td>1</td>\n",
       "    </tr>\n",
       "    <tr>\n",
       "      <th>751</th>\n",
       "      <td>6</td>\n",
       "      <td>148</td>\n",
       "      <td>72.0</td>\n",
       "      <td>35.0</td>\n",
       "      <td>39.0</td>\n",
       "      <td>33.6</td>\n",
       "      <td>0.627</td>\n",
       "      <td>50</td>\n",
       "      <td>1</td>\n",
       "    </tr>\n",
       "  </tbody>\n",
       "</table>\n",
       "</div>"
      ],
      "text/plain": [
       "     Pregnancies  Glucose  BloodPressure  SkinThickness  Insulin   BMI  \\\n",
       "747            5      158           84.0           41.0    210.0  39.4   \n",
       "748            3      107           62.0           13.0     48.0  22.9   \n",
       "749            0      135           68.0           42.0    250.0  42.3   \n",
       "750            4      109           64.0           44.0     99.0  34.8   \n",
       "751            6      148           72.0           35.0     39.0  33.6   \n",
       "\n",
       "     DiabetesPedigreeFunction  Age  Outcome  \n",
       "747                     0.395   29        1  \n",
       "748                     0.678   23        1  \n",
       "749                     0.365   24        1  \n",
       "750                     0.905   26        1  \n",
       "751                     0.627   50        1  "
      ]
     },
     "execution_count": 22,
     "metadata": {},
     "output_type": "execute_result"
    }
   ],
   "source": [
    "dia.tail()"
   ]
  },
  {
   "cell_type": "code",
   "execution_count": 23,
   "id": "30cbaafd",
   "metadata": {},
   "outputs": [
    {
     "data": {
      "text/plain": [
       "(488, 264, 752)"
      ]
     },
     "execution_count": 23,
     "metadata": {},
     "output_type": "execute_result"
    }
   ],
   "source": [
    "# Having Index variables so as to have a proper balance of classes in the train and test set\n",
    "\n",
    "class_0_count = sum(dia['Outcome']==0)\n",
    "class_1_count = sum(dia['Outcome']==1)\n",
    "total_count = len(dia)\n",
    "class_0_count,class_1_count,total_count"
   ]
  },
  {
   "cell_type": "code",
   "execution_count": 24,
   "id": "bb4fe843",
   "metadata": {},
   "outputs": [
    {
     "data": {
      "text/plain": [
       "488"
      ]
     },
     "execution_count": 24,
     "metadata": {},
     "output_type": "execute_result"
    }
   ],
   "source": [
    "class_1_start_index = class_0_count\n",
    "class_1_start_index"
   ]
  },
  {
   "cell_type": "code",
   "execution_count": 25,
   "id": "6788c8c3",
   "metadata": {},
   "outputs": [],
   "source": [
    "split_size = 0.6 # Size of Train and Test split"
   ]
  },
  {
   "cell_type": "code",
   "execution_count": 26,
   "id": "8fd8bd22",
   "metadata": {},
   "outputs": [],
   "source": [
    "X = dia\n",
    "Y = dia['Outcome']"
   ]
  },
  {
   "cell_type": "code",
   "execution_count": 27,
   "id": "96b973a1",
   "metadata": {},
   "outputs": [
    {
     "name": "stderr",
     "output_type": "stream",
     "text": [
      "C:\\Users\\nsimh\\AppData\\Local\\Temp\\ipykernel_21004\\301092342.py:1: FutureWarning: The frame.append method is deprecated and will be removed from pandas in a future version. Use pandas.concat instead.\n",
      "  X_Train = X[0:int(split_size*class_0_count)].append(X[class_1_start_index:class_1_start_index+int(split_size*class_1_count)])\n"
     ]
    }
   ],
   "source": [
    "X_Train = X[0:int(split_size*class_0_count)].append(X[class_1_start_index:class_1_start_index+int(split_size*class_1_count)])\n"
   ]
  },
  {
   "cell_type": "code",
   "execution_count": 28,
   "id": "5dc263e4",
   "metadata": {},
   "outputs": [
    {
     "name": "stderr",
     "output_type": "stream",
     "text": [
      "C:\\Users\\nsimh\\AppData\\Local\\Temp\\ipykernel_21004\\491274760.py:1: FutureWarning: The frame.append method is deprecated and will be removed from pandas in a future version. Use pandas.concat instead.\n",
      "  X_Test = X[int(split_size*class_0_count):class_1_start_index].append(X[class_1_start_index+int(split_size*class_1_count):])\n",
      "C:\\Users\\nsimh\\AppData\\Local\\Temp\\ipykernel_21004\\491274760.py:2: FutureWarning: The series.append method is deprecated and will be removed from pandas in a future version. Use pandas.concat instead.\n",
      "  Y_Test = Y[int(split_size*class_0_count):class_1_start_index].append(Y[class_1_start_index+int(split_size*class_1_count):])\n"
     ]
    }
   ],
   "source": [
    "X_Test = X[int(split_size*class_0_count):class_1_start_index].append(X[class_1_start_index+int(split_size*class_1_count):])\n",
    "Y_Test = Y[int(split_size*class_0_count):class_1_start_index].append(Y[class_1_start_index+int(split_size*class_1_count):])"
   ]
  },
  {
   "cell_type": "code",
   "execution_count": 29,
   "id": "0a706900",
   "metadata": {},
   "outputs": [],
   "source": [
    "X_Test.drop(axis=1,columns='Outcome',inplace=True)"
   ]
  },
  {
   "cell_type": "code",
   "execution_count": 30,
   "id": "be702934",
   "metadata": {},
   "outputs": [
    {
     "data": {
      "text/html": [
       "<div>\n",
       "<style scoped>\n",
       "    .dataframe tbody tr th:only-of-type {\n",
       "        vertical-align: middle;\n",
       "    }\n",
       "\n",
       "    .dataframe tbody tr th {\n",
       "        vertical-align: top;\n",
       "    }\n",
       "\n",
       "    .dataframe thead th {\n",
       "        text-align: right;\n",
       "    }\n",
       "</style>\n",
       "<table border=\"1\" class=\"dataframe\">\n",
       "  <thead>\n",
       "    <tr style=\"text-align: right;\">\n",
       "      <th></th>\n",
       "      <th>Pregnancies</th>\n",
       "      <th>Glucose</th>\n",
       "      <th>BloodPressure</th>\n",
       "      <th>SkinThickness</th>\n",
       "      <th>Insulin</th>\n",
       "      <th>BMI</th>\n",
       "      <th>DiabetesPedigreeFunction</th>\n",
       "      <th>Age</th>\n",
       "    </tr>\n",
       "  </thead>\n",
       "  <tbody>\n",
       "    <tr>\n",
       "      <th>292</th>\n",
       "      <td>1</td>\n",
       "      <td>124</td>\n",
       "      <td>74.0</td>\n",
       "      <td>36.0</td>\n",
       "      <td>39.0</td>\n",
       "      <td>27.8</td>\n",
       "      <td>0.100</td>\n",
       "      <td>30</td>\n",
       "    </tr>\n",
       "    <tr>\n",
       "      <th>293</th>\n",
       "      <td>1</td>\n",
       "      <td>124</td>\n",
       "      <td>60.0</td>\n",
       "      <td>32.0</td>\n",
       "      <td>39.0</td>\n",
       "      <td>35.8</td>\n",
       "      <td>0.514</td>\n",
       "      <td>21</td>\n",
       "    </tr>\n",
       "    <tr>\n",
       "      <th>294</th>\n",
       "      <td>1</td>\n",
       "      <td>92</td>\n",
       "      <td>62.0</td>\n",
       "      <td>25.0</td>\n",
       "      <td>41.0</td>\n",
       "      <td>19.5</td>\n",
       "      <td>0.482</td>\n",
       "      <td>25</td>\n",
       "    </tr>\n",
       "    <tr>\n",
       "      <th>295</th>\n",
       "      <td>0</td>\n",
       "      <td>152</td>\n",
       "      <td>82.0</td>\n",
       "      <td>39.0</td>\n",
       "      <td>272.0</td>\n",
       "      <td>41.5</td>\n",
       "      <td>0.270</td>\n",
       "      <td>27</td>\n",
       "    </tr>\n",
       "    <tr>\n",
       "      <th>296</th>\n",
       "      <td>1</td>\n",
       "      <td>111</td>\n",
       "      <td>62.0</td>\n",
       "      <td>13.0</td>\n",
       "      <td>182.0</td>\n",
       "      <td>24.0</td>\n",
       "      <td>0.138</td>\n",
       "      <td>23</td>\n",
       "    </tr>\n",
       "    <tr>\n",
       "      <th>...</th>\n",
       "      <td>...</td>\n",
       "      <td>...</td>\n",
       "      <td>...</td>\n",
       "      <td>...</td>\n",
       "      <td>...</td>\n",
       "      <td>...</td>\n",
       "      <td>...</td>\n",
       "      <td>...</td>\n",
       "    </tr>\n",
       "    <tr>\n",
       "      <th>747</th>\n",
       "      <td>5</td>\n",
       "      <td>158</td>\n",
       "      <td>84.0</td>\n",
       "      <td>41.0</td>\n",
       "      <td>210.0</td>\n",
       "      <td>39.4</td>\n",
       "      <td>0.395</td>\n",
       "      <td>29</td>\n",
       "    </tr>\n",
       "    <tr>\n",
       "      <th>748</th>\n",
       "      <td>3</td>\n",
       "      <td>107</td>\n",
       "      <td>62.0</td>\n",
       "      <td>13.0</td>\n",
       "      <td>48.0</td>\n",
       "      <td>22.9</td>\n",
       "      <td>0.678</td>\n",
       "      <td>23</td>\n",
       "    </tr>\n",
       "    <tr>\n",
       "      <th>749</th>\n",
       "      <td>0</td>\n",
       "      <td>135</td>\n",
       "      <td>68.0</td>\n",
       "      <td>42.0</td>\n",
       "      <td>250.0</td>\n",
       "      <td>42.3</td>\n",
       "      <td>0.365</td>\n",
       "      <td>24</td>\n",
       "    </tr>\n",
       "    <tr>\n",
       "      <th>750</th>\n",
       "      <td>4</td>\n",
       "      <td>109</td>\n",
       "      <td>64.0</td>\n",
       "      <td>44.0</td>\n",
       "      <td>99.0</td>\n",
       "      <td>34.8</td>\n",
       "      <td>0.905</td>\n",
       "      <td>26</td>\n",
       "    </tr>\n",
       "    <tr>\n",
       "      <th>751</th>\n",
       "      <td>6</td>\n",
       "      <td>148</td>\n",
       "      <td>72.0</td>\n",
       "      <td>35.0</td>\n",
       "      <td>39.0</td>\n",
       "      <td>33.6</td>\n",
       "      <td>0.627</td>\n",
       "      <td>50</td>\n",
       "    </tr>\n",
       "  </tbody>\n",
       "</table>\n",
       "<p>302 rows × 8 columns</p>\n",
       "</div>"
      ],
      "text/plain": [
       "     Pregnancies  Glucose  BloodPressure  SkinThickness  Insulin   BMI  \\\n",
       "292            1      124           74.0           36.0     39.0  27.8   \n",
       "293            1      124           60.0           32.0     39.0  35.8   \n",
       "294            1       92           62.0           25.0     41.0  19.5   \n",
       "295            0      152           82.0           39.0    272.0  41.5   \n",
       "296            1      111           62.0           13.0    182.0  24.0   \n",
       "..           ...      ...            ...            ...      ...   ...   \n",
       "747            5      158           84.0           41.0    210.0  39.4   \n",
       "748            3      107           62.0           13.0     48.0  22.9   \n",
       "749            0      135           68.0           42.0    250.0  42.3   \n",
       "750            4      109           64.0           44.0     99.0  34.8   \n",
       "751            6      148           72.0           35.0     39.0  33.6   \n",
       "\n",
       "     DiabetesPedigreeFunction  Age  \n",
       "292                     0.100   30  \n",
       "293                     0.514   21  \n",
       "294                     0.482   25  \n",
       "295                     0.270   27  \n",
       "296                     0.138   23  \n",
       "..                        ...  ...  \n",
       "747                     0.395   29  \n",
       "748                     0.678   23  \n",
       "749                     0.365   24  \n",
       "750                     0.905   26  \n",
       "751                     0.627   50  \n",
       "\n",
       "[302 rows x 8 columns]"
      ]
     },
     "execution_count": 30,
     "metadata": {},
     "output_type": "execute_result"
    }
   ],
   "source": [
    "X_Test"
   ]
  },
  {
   "cell_type": "code",
   "execution_count": 31,
   "id": "aca8873f",
   "metadata": {},
   "outputs": [
    {
     "data": {
      "text/html": [
       "<div>\n",
       "<style scoped>\n",
       "    .dataframe tbody tr th:only-of-type {\n",
       "        vertical-align: middle;\n",
       "    }\n",
       "\n",
       "    .dataframe tbody tr th {\n",
       "        vertical-align: top;\n",
       "    }\n",
       "\n",
       "    .dataframe thead th {\n",
       "        text-align: right;\n",
       "    }\n",
       "</style>\n",
       "<table border=\"1\" class=\"dataframe\">\n",
       "  <thead>\n",
       "    <tr style=\"text-align: right;\">\n",
       "      <th></th>\n",
       "      <th>Pregnancies</th>\n",
       "      <th>Glucose</th>\n",
       "      <th>BloodPressure</th>\n",
       "      <th>SkinThickness</th>\n",
       "      <th>Insulin</th>\n",
       "      <th>BMI</th>\n",
       "      <th>DiabetesPedigreeFunction</th>\n",
       "      <th>Age</th>\n",
       "      <th>Outcome</th>\n",
       "    </tr>\n",
       "  </thead>\n",
       "  <tbody>\n",
       "    <tr>\n",
       "      <th>0</th>\n",
       "      <td>1</td>\n",
       "      <td>119</td>\n",
       "      <td>54.0</td>\n",
       "      <td>13.0</td>\n",
       "      <td>50.0</td>\n",
       "      <td>22.3</td>\n",
       "      <td>0.205</td>\n",
       "      <td>24</td>\n",
       "      <td>0</td>\n",
       "    </tr>\n",
       "    <tr>\n",
       "      <th>1</th>\n",
       "      <td>0</td>\n",
       "      <td>74</td>\n",
       "      <td>52.0</td>\n",
       "      <td>10.0</td>\n",
       "      <td>36.0</td>\n",
       "      <td>27.8</td>\n",
       "      <td>0.269</td>\n",
       "      <td>22</td>\n",
       "      <td>0</td>\n",
       "    </tr>\n",
       "    <tr>\n",
       "      <th>2</th>\n",
       "      <td>0</td>\n",
       "      <td>97</td>\n",
       "      <td>64.0</td>\n",
       "      <td>36.0</td>\n",
       "      <td>100.0</td>\n",
       "      <td>36.8</td>\n",
       "      <td>0.600</td>\n",
       "      <td>25</td>\n",
       "      <td>0</td>\n",
       "    </tr>\n",
       "    <tr>\n",
       "      <th>3</th>\n",
       "      <td>6</td>\n",
       "      <td>154</td>\n",
       "      <td>78.0</td>\n",
       "      <td>41.0</td>\n",
       "      <td>140.0</td>\n",
       "      <td>46.1</td>\n",
       "      <td>0.571</td>\n",
       "      <td>27</td>\n",
       "      <td>0</td>\n",
       "    </tr>\n",
       "    <tr>\n",
       "      <th>4</th>\n",
       "      <td>1</td>\n",
       "      <td>144</td>\n",
       "      <td>82.0</td>\n",
       "      <td>40.0</td>\n",
       "      <td>39.0</td>\n",
       "      <td>41.3</td>\n",
       "      <td>0.607</td>\n",
       "      <td>28</td>\n",
       "      <td>0</td>\n",
       "    </tr>\n",
       "    <tr>\n",
       "      <th>...</th>\n",
       "      <td>...</td>\n",
       "      <td>...</td>\n",
       "      <td>...</td>\n",
       "      <td>...</td>\n",
       "      <td>...</td>\n",
       "      <td>...</td>\n",
       "      <td>...</td>\n",
       "      <td>...</td>\n",
       "      <td>...</td>\n",
       "    </tr>\n",
       "    <tr>\n",
       "      <th>641</th>\n",
       "      <td>6</td>\n",
       "      <td>194</td>\n",
       "      <td>78.0</td>\n",
       "      <td>23.0</td>\n",
       "      <td>39.0</td>\n",
       "      <td>23.5</td>\n",
       "      <td>0.129</td>\n",
       "      <td>59</td>\n",
       "      <td>1</td>\n",
       "    </tr>\n",
       "    <tr>\n",
       "      <th>642</th>\n",
       "      <td>3</td>\n",
       "      <td>182</td>\n",
       "      <td>74.0</td>\n",
       "      <td>23.0</td>\n",
       "      <td>39.0</td>\n",
       "      <td>30.5</td>\n",
       "      <td>0.345</td>\n",
       "      <td>29</td>\n",
       "      <td>1</td>\n",
       "    </tr>\n",
       "    <tr>\n",
       "      <th>643</th>\n",
       "      <td>10</td>\n",
       "      <td>161</td>\n",
       "      <td>68.0</td>\n",
       "      <td>23.0</td>\n",
       "      <td>132.0</td>\n",
       "      <td>25.5</td>\n",
       "      <td>0.326</td>\n",
       "      <td>47</td>\n",
       "      <td>1</td>\n",
       "    </tr>\n",
       "    <tr>\n",
       "      <th>644</th>\n",
       "      <td>7</td>\n",
       "      <td>109</td>\n",
       "      <td>80.0</td>\n",
       "      <td>31.0</td>\n",
       "      <td>39.0</td>\n",
       "      <td>35.9</td>\n",
       "      <td>1.127</td>\n",
       "      <td>43</td>\n",
       "      <td>1</td>\n",
       "    </tr>\n",
       "    <tr>\n",
       "      <th>645</th>\n",
       "      <td>2</td>\n",
       "      <td>155</td>\n",
       "      <td>74.0</td>\n",
       "      <td>17.0</td>\n",
       "      <td>96.0</td>\n",
       "      <td>26.6</td>\n",
       "      <td>0.433</td>\n",
       "      <td>27</td>\n",
       "      <td>1</td>\n",
       "    </tr>\n",
       "  </tbody>\n",
       "</table>\n",
       "<p>450 rows × 9 columns</p>\n",
       "</div>"
      ],
      "text/plain": [
       "     Pregnancies  Glucose  BloodPressure  SkinThickness  Insulin   BMI  \\\n",
       "0              1      119           54.0           13.0     50.0  22.3   \n",
       "1              0       74           52.0           10.0     36.0  27.8   \n",
       "2              0       97           64.0           36.0    100.0  36.8   \n",
       "3              6      154           78.0           41.0    140.0  46.1   \n",
       "4              1      144           82.0           40.0     39.0  41.3   \n",
       "..           ...      ...            ...            ...      ...   ...   \n",
       "641            6      194           78.0           23.0     39.0  23.5   \n",
       "642            3      182           74.0           23.0     39.0  30.5   \n",
       "643           10      161           68.0           23.0    132.0  25.5   \n",
       "644            7      109           80.0           31.0     39.0  35.9   \n",
       "645            2      155           74.0           17.0     96.0  26.6   \n",
       "\n",
       "     DiabetesPedigreeFunction  Age  Outcome  \n",
       "0                       0.205   24        0  \n",
       "1                       0.269   22        0  \n",
       "2                       0.600   25        0  \n",
       "3                       0.571   27        0  \n",
       "4                       0.607   28        0  \n",
       "..                        ...  ...      ...  \n",
       "641                     0.129   59        1  \n",
       "642                     0.345   29        1  \n",
       "643                     0.326   47        1  \n",
       "644                     1.127   43        1  \n",
       "645                     0.433   27        1  \n",
       "\n",
       "[450 rows x 9 columns]"
      ]
     },
     "execution_count": 31,
     "metadata": {},
     "output_type": "execute_result"
    }
   ],
   "source": [
    "X_Train"
   ]
  },
  {
   "cell_type": "markdown",
   "id": "f80d624e",
   "metadata": {},
   "source": [
    " "
   ]
  },
  {
   "cell_type": "markdown",
   "id": "8e576074",
   "metadata": {},
   "source": [
    "### IMPLEMENTATION : \n"
   ]
  },
  {
   "cell_type": "code",
   "execution_count": 32,
   "id": "650d55b5",
   "metadata": {},
   "outputs": [],
   "source": [
    "#Class that handels the metric for the data\n",
    "\n",
    "class metrics:\n",
    "    tp=0\n",
    "    tn=0\n",
    "    fp=0\n",
    "    fn=0\n",
    "    \n",
    "    def __init__(self,y,y_pred):\n",
    "        for i in range(len(y)):\n",
    "            if y[i] == 1 and y_pred[i] == 1:\n",
    "                 self.tp += 1\n",
    "            elif y[i] == 1 and y_pred[i] == 0:\n",
    "                 self.fn += 1\n",
    "            elif y[i] == 0 and y_pred[i] == 1:\n",
    "                 self.fp += 1\n",
    "            elif y[i] == 0 and y_pred[i] == 0:\n",
    "                 self.tn += 1\n",
    "                    \n",
    "    def calc_acc(self):\n",
    "        return (self.tp+self.tn)/(self.tp+self.tn+self.fp+self.fn)\n",
    "    \n",
    "    def calc_F1_score(self):\n",
    "        precision = self.tp/(self.tp+self.fp)\n",
    "        recall = self.tp/(self.tp+self.fn)\n",
    "        f1_score = 2*precision*recall/(precision+recall)\n",
    "        return f1_score\n"
   ]
  },
  {
   "cell_type": "code",
   "execution_count": 33,
   "id": "84ed414e",
   "metadata": {},
   "outputs": [],
   "source": [
    "# Class to implement Navie Bayers classifier for Continous data for Classification\n",
    "class NaiveBayers:\n",
    "    class_0_mean = list()\n",
    "    class_0_std = list()\n",
    "    class_1_mean = list()\n",
    "    class_1_std = list()\n",
    "    prior_prob_class_0 = 0\n",
    "    prior_prob_class_1 = 0\n",
    "\n",
    "    #To calc Mean and Std of Class 0\n",
    "    def calc_mean_and_std_class0(self,class_0_df):\n",
    "        for col in class_0_df.columns:\n",
    "            self.class_0_mean.append(class_0_df[col].mean())\n",
    "            self.class_0_std.append(class_0_df[col].std())\n",
    "\n",
    "    #To calc Mean and Std of Class 1\n",
    "    def calc_mean_and_std_class1(self,class_1_df):\n",
    "        for col in class_1_df.columns:\n",
    "            self.class_1_mean.append(class_1_df[col].mean())\n",
    "            self.class_1_std.append(class_1_df[col].std())\n",
    "            \n",
    "    #to fit the Gausian \n",
    "    def normal_dist(self,data,mean,std):\n",
    "        dist = list()\n",
    "        for i in range(len(data)):\n",
    "            exp_pow = -0.5*(((data[i]-mean[i])/std[i])**2)\n",
    "            exp = np.exp(exp_pow)\n",
    "            deno = std[i]*np.sqrt(2*np.pi)\n",
    "            fun = exp/deno\n",
    "            dist.append(fun)\n",
    "        return dist\n",
    "\n",
    "    #To predict the class given data sample\n",
    "    def predict_class(self,X_Test):\n",
    "        Y_Pred = list()\n",
    "        for data in X_Test:\n",
    "\n",
    "            sum_class_0 = 0\n",
    "            gauss_vals_0 = self.normal_dist(data,self.class_0_mean,self.class_0_std)\n",
    "\n",
    "            for i in range(len(gauss_vals_0)):\n",
    "                sum_class_0 = sum_class_0 + np.log(gauss_vals_0[i])\n",
    "\n",
    "            sum_class_0 += np.log(self.prior_prob_class_0)\n",
    "\n",
    "            sum_class_1 = 0\n",
    "            gauss_vals_1 = self.normal_dist(data,self.class_1_mean,self.class_1_std)\n",
    "            for i in range(len(gauss_vals_1)):\n",
    "                sum_class_1 = sum_class_1 + np.log(gauss_vals_1[i])\n",
    "            sum_class_1 += np.log(self.prior_prob_class_1)\n",
    "\n",
    "            if(sum_class_0 > sum_class_1):\n",
    "                Y_Pred.append(0)\n",
    "            else:\n",
    "                Y_Pred.append(1)\n",
    "            \n",
    "        return Y_Pred\n",
    "\n",
    "    #To Fit the Training data to the curve\n",
    "    def fit(self,X):\n",
    "        class_0_df = X[X['Outcome']==0]\n",
    "        class_1_df = X[X['Outcome']==1]\n",
    "        class_0_df.drop(columns='Outcome',inplace=True)\n",
    "        class_1_df.drop(columns='Outcome',inplace=True)\n",
    "        self.prior_prob_class_0 = len(class_0_df)/len(X)\n",
    "        self.prior_prob_class_1 = len(class_1_df)/len(X)\n",
    "\n",
    "        self.calc_mean_and_std_class0(class_0_df)\n",
    "        self.calc_mean_and_std_class1(class_1_df)\n",
    "        "
   ]
  },
  {
   "cell_type": "code",
   "execution_count": 34,
   "id": "2346b1c4",
   "metadata": {},
   "outputs": [
    {
     "name": "stderr",
     "output_type": "stream",
     "text": [
      "C:\\Users\\nsimh\\AppData\\Local\\Temp\\ipykernel_21004\\1902575867.py:63: SettingWithCopyWarning: \n",
      "A value is trying to be set on a copy of a slice from a DataFrame\n",
      "\n",
      "See the caveats in the documentation: https://pandas.pydata.org/pandas-docs/stable/user_guide/indexing.html#returning-a-view-versus-a-copy\n",
      "  class_0_df.drop(columns='Outcome',inplace=True)\n",
      "C:\\Users\\nsimh\\AppData\\Local\\Temp\\ipykernel_21004\\1902575867.py:64: SettingWithCopyWarning: \n",
      "A value is trying to be set on a copy of a slice from a DataFrame\n",
      "\n",
      "See the caveats in the documentation: https://pandas.pydata.org/pandas-docs/stable/user_guide/indexing.html#returning-a-view-versus-a-copy\n",
      "  class_1_df.drop(columns='Outcome',inplace=True)\n"
     ]
    }
   ],
   "source": [
    "nb = NaiveBayers()\n",
    "nb.fit(X_Train)"
   ]
  },
  {
   "cell_type": "code",
   "execution_count": 37,
   "id": "7f0f5227",
   "metadata": {},
   "outputs": [],
   "source": [
    "Y_Pred = nb.predict_class(X_Test.values)"
   ]
  },
  {
   "cell_type": "code",
   "execution_count": 38,
   "id": "596338fd",
   "metadata": {},
   "outputs": [
    {
     "name": "stdout",
     "output_type": "stream",
     "text": [
      "\n",
      " The Accuracy of the Model is :  74.83443708609272 %\n",
      "\n",
      " The F1 Score of the Model is :  62.74509803921568 %\n"
     ]
    }
   ],
   "source": [
    "metric = metrics(Y_Test.values,Y_Pred)\n",
    "print(\"\\n The Accuracy of the Model is : \", metric.calc_acc()*100,\"%\")\n",
    "print(\"\\n The F1 Score of the Model is : \",metric.calc_F1_score()*100,\"%\")"
   ]
  },
  {
   "cell_type": "markdown",
   "id": "53c51bbb",
   "metadata": {},
   "source": [
    "### INFERENCE :\n",
    "The accuracy and the F1 score are decent but can be improved with better data preprocessing"
   ]
  },
  {
   "cell_type": "markdown",
   "id": "63caba3f",
   "metadata": {},
   "source": [
    "\n"
   ]
  }
 ],
 "metadata": {
  "kernelspec": {
   "display_name": "Python 3 (ipykernel)",
   "language": "python",
   "name": "python3"
  },
  "language_info": {
   "codemirror_mode": {
    "name": "ipython",
    "version": 3
   },
   "file_extension": ".py",
   "mimetype": "text/x-python",
   "name": "python",
   "nbconvert_exporter": "python",
   "pygments_lexer": "ipython3",
   "version": "3.9.12"
  }
 },
 "nbformat": 4,
 "nbformat_minor": 5
}
